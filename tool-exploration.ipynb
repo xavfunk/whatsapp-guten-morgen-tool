{
 "cells": [
  {
   "cell_type": "markdown",
   "id": "56c1c1dd",
   "metadata": {},
   "source": [
    "## Guten Morgen Tool exloration\n"
   ]
  },
  {
   "cell_type": "code",
   "execution_count": 54,
   "id": "0882952d",
   "metadata": {},
   "outputs": [
    {
     "name": "stderr",
     "output_type": "stream",
     "text": [
      "/tmp/ipykernel_4610/2498926370.py:16: DeprecationWarning: executable_path has been deprecated, please pass in a Service object\n",
      "  driver = webdriver.Chrome('/home/xavfunk/chromedriver_linux64/chromedriver', options=chrome_options)\n",
      "/tmp/ipykernel_4610/2498926370.py:22: DeprecationWarning: find_element_by_xpath is deprecated. Please use find_element(by=By.XPATH, value=xpath) instead\n",
      "  input_box_search = WebDriverWait(driver,50).until(lambda driver: driver.find_element_by_xpath(inp_xpath_search))\n",
      "/tmp/ipykernel_4610/2498926370.py:30: DeprecationWarning: find_element_by_xpath is deprecated. Please use find_element(by=By.XPATH, value=xpath) instead\n",
      "  selected_contact = driver.find_element_by_xpath(\"//span[@title='\"+contact+\"']\")\n",
      "/tmp/ipykernel_4610/2498926370.py:38: DeprecationWarning: find_element_by_xpath is deprecated. Please use find_element(by=By.XPATH, value=xpath) instead\n",
      "  input_box = driver.find_element_by_xpath(inp_xpath)\n"
     ]
    }
   ],
   "source": [
    "from selenium import webdriver\n",
    "from selenium.webdriver.chrome.options import Options\n",
    "\n",
    "from selenium.webdriver.support.ui import WebDriverWait\n",
    "from selenium.webdriver.support.ui import Select\n",
    "from selenium.webdriver.common.by import By\n",
    "from selenium.webdriver.common.keys import Keys\n",
    "import time\n",
    "\n",
    "contact = \"Lena\" # Omas gruppe\n",
    "text = \"Guten Morgen\" # guten Morgen\n",
    "\n",
    "chrome_options = Options()\n",
    "chrome_options.add_argument(\"user-data-dir=/home/xavfunk/.config/google-chrome/Default\")\n",
    "\n",
    "driver = webdriver.Chrome('/home/xavfunk/chromedriver_linux64/chromedriver', options=chrome_options)\n",
    "\n",
    "driver.get('https://web.whatsapp.com/');\n",
    "\n",
    "# search contact\n",
    "inp_xpath_search = \"//div[@title='Tekstvak zoekopdracht']\"\n",
    "input_box_search = WebDriverWait(driver,50).until(lambda driver: driver.find_element_by_xpath(inp_xpath_search))\n",
    "input_box_search.click()\n",
    "time.sleep(2)\n",
    "input_box_search.send_keys(contact)\n",
    "time.sleep(2)\n",
    "\n",
    "# select contact\n",
    "time.sleep(6) # whatsapp starts\n",
    "selected_contact = driver.find_element_by_xpath(\"//span[@title='\"+contact+\"']\")\n",
    "time.sleep(2)\n",
    "selected_contact.click() # chat opens\n",
    "\n",
    "time.sleep(3)\n",
    "\n",
    "# type text, press enter\n",
    "inp_xpath = '//div[@class=\"_13NKt copyable-text selectable-text\"][@contenteditable=\"true\"][@data-tab=\"10\"]'\n",
    "input_box = driver.find_element_by_xpath(inp_xpath)\n",
    "time.sleep(2)\n",
    "input_box.send_keys(text + Keys.ENTER)\n",
    "time.sleep(2)\n",
    "\n",
    "# quit\n",
    "driver.quit()"
   ]
  }
 ],
 "metadata": {
  "kernelspec": {
   "display_name": "Python 3 (ipykernel)",
   "language": "python",
   "name": "python3"
  },
  "language_info": {
   "codemirror_mode": {
    "name": "ipython",
    "version": 3
   },
   "file_extension": ".py",
   "mimetype": "text/x-python",
   "name": "python",
   "nbconvert_exporter": "python",
   "pygments_lexer": "ipython3",
   "version": "3.9.7"
  }
 },
 "nbformat": 4,
 "nbformat_minor": 5
}
